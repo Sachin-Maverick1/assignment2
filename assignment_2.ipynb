{
 "cells": [
  {
   "cell_type": "code",
   "execution_count": 1,
   "id": "b0c0b991-eb14-4574-bb60-f484dd7c5714",
   "metadata": {},
   "outputs": [
    {
     "name": "stdout",
     "output_type": "stream",
     "text": [
      "firs\n",
      "is\n"
     ]
    }
   ],
   "source": [
    "'''  \n",
    "Question1:Discuss string slicing and provide examples\n",
    "solution: string slicing is the way to create the substring to store the data .\n",
    "it may the user to create the substring so that it can add many sttring inside into a\n",
    "single string so that data get stored in well structured and easy to access the\n",
    "new user to get the better experience.\n",
    "'''\n",
    "#for example:\n",
    "student_names=\"first_symbol_is_you_only\"\n",
    "print(student_names[slice(4)]) \n",
    "print(student_names[slice(1,5,2)])"
   ]
  },
  {
   "cell_type": "code",
   "execution_count": 2,
   "id": "c474e451-4819-43ff-bc23-c85a972732cf",
   "metadata": {},
   "outputs": [
    {
     "data": {
      "text/plain": [
       "'sachin'"
      ]
     },
     "execution_count": 2,
     "metadata": {},
     "output_type": "execute_result"
    }
   ],
   "source": [
    "#Question2: Explain the key features of lists in Python\u0014\n",
    "#solution:list are the way to store the data in such a way so that\n",
    "# it can store the multiple kinds of data whether is may be string,\n",
    "# integer,float,etc as per the feed by the user  .\n",
    "# ««« key-features »»»\n",
    "# it is mutable \n",
    "# it can store the value whether it is characters,float,integers,etc.\n",
    "#easgly accessed by just simplying giving the value of index number.\n",
    "#index numbers are simply starts from the zero and end to last-1;\n",
    "#they can easyly modify the elments,and add up the elements .\n",
    "#for example:\n",
    "friends_list=[\"sachin\",\"sahil\",\"rohit\"]\n",
    "good_one=friends_list[0]\n",
    "good_one"
   ]
  },
  {
   "cell_type": "code",
   "execution_count": 3,
   "id": "234f38cc-4a5c-4afa-97ba-3abbc70c85d5",
   "metadata": {},
   "outputs": [
    {
     "name": "stdout",
     "output_type": "stream",
     "text": [
      "['MERCEDES', 'VOLVO', 'AUDI']\n"
     ]
    },
    {
     "data": {
      "text/plain": [
       "['MERCEDES', 'VOLVO']"
      ]
     },
     "execution_count": 3,
     "metadata": {},
     "output_type": "execute_result"
    }
   ],
   "source": [
    "#Describe how to access, modify, and delete elements in a list with examples\u0014\n",
    "#soltion: we can easyly access,delete and modify the elements of the\n",
    "#list .\n",
    "#example:\n",
    "#example to acccess the elements from the list\n",
    "car_list=[\"MERCEDES\",\"VOLVO\",\"AUDI\",\"BMW\"]\n",
    "BEST_ONE=car_list[2]\n",
    "BEST_ONE\n",
    "#example to modify the elements\n",
    "#three different ways to modify the list\n",
    "# 1»append method\n",
    "# 2»insert method\n",
    "# 3»extend method\n",
    "#append method:\n",
    "car_list=[\"MERCEDES\",\"VOLVO\",\"AUDI\",\"BMW\"]\n",
    "car_list.append(\"LAND ROVER\")\n",
    "car_list\n",
    "#insert method:\n",
    "car_list=[\"MERCEDES\",\"VOLVO\",\"AUDI\",\"BMW\"]\n",
    "car_list.insert(2,\"FORTUNER\")\n",
    "car_list\n",
    "#extend method\n",
    "car_list=[\"MERCEDES\",\"VOLVO\",\"AUDI\",\"BMW\"]\n",
    "bike_list=[\"GT\",\"BULLET\",\"R15\"]\n",
    "car_list.extend(bike_list)\n",
    "car_list\n",
    "#to delete from the list\n",
    "car_list=[\"MERCEDES\",\"VOLVO\",\"AUDI\",\"BMW\"]\n",
    "del car_list[3]\n",
    "car_list\n",
    "print(car_list)\n",
    "car_list.remove(\"AUDI\")\n",
    "car_list"
   ]
  },
  {
   "cell_type": "code",
   "execution_count": 4,
   "id": "aa7c6d8c-a232-44f3-8ce4-dda938d37c88",
   "metadata": {},
   "outputs": [
    {
     "ename": "TypeError",
     "evalue": "'tuple' object does not support item assignment",
     "output_type": "error",
     "traceback": [
      "\u001b[0;31m---------------------------------------------------------------------------\u001b[0m",
      "\u001b[0;31mTypeError\u001b[0m                                 Traceback (most recent call last)",
      "Cell \u001b[0;32mIn[4], line 21\u001b[0m\n\u001b[1;32m     19\u001b[0m animal_list[\u001b[38;5;241m2\u001b[39m]\u001b[38;5;241m=\u001b[39m\u001b[38;5;124m\"\u001b[39m\u001b[38;5;124melephant\u001b[39m\u001b[38;5;124m\"\u001b[39m\n\u001b[1;32m     20\u001b[0m animal_list \u001b[38;5;66;03m# this is for the list\u001b[39;00m\n\u001b[0;32m---> 21\u001b[0m \u001b[43manimal_tuple\u001b[49m\u001b[43m[\u001b[49m\u001b[38;5;241;43m1\u001b[39;49m\u001b[43m]\u001b[49m\u001b[38;5;241m=\u001b[39m\u001b[38;5;124m'\u001b[39m\u001b[38;5;124msheep\u001b[39m\u001b[38;5;124m'\u001b[39m\n\u001b[1;32m     22\u001b[0m animal_tuple \u001b[38;5;66;03m# change the value in tuple is not going to happened\u001b[39;00m\n\u001b[1;32m     23\u001b[0m \u001b[38;5;66;03m#it show the error in case of tuple but do in list case\u001b[39;00m\n",
      "\u001b[0;31mTypeError\u001b[0m: 'tuple' object does not support item assignment"
     ]
    }
   ],
   "source": [
    "#question4:Compare and contrast tuples and lists with examples\n",
    "#solution: comparsion»»\n",
    "# 1»both can store the multiple kind of data whether it is character,\n",
    "#float,integer,etc.\n",
    "#2»in both we can do the slcing\n",
    "#3»in both we can do the indexing \n",
    "#4»nestde tuples may be created\n",
    "#example:\n",
    "animal_list=[\"cat\",\"horse\",\"dog\"]\n",
    "animal_list[1]\n",
    "animal_tuple=('cat','horse','dog')\n",
    "animal_tuple[2]\n",
    "#contrast\n",
    "#1»»in tuple we cannʼt do the changes after assigning the  value to \n",
    "#variables but in list we can do the changes\n",
    "#2»»in tuple we use the () but in list we use the square brackets[]\n",
    "#3»»   animal_list=[\"cat\",\"horse\",\"dog\"] vs animal_tuple=('cat','horse','dog')\n",
    "#examples:\n",
    "animal_list[2]=\"elephant\"\n",
    "animal_list # this is for the list\n",
    "animal_tuple[1]='sheep'\n",
    "animal_tuple # change the value in tuple is not going to happened\n",
    "#it show the error in case of tuple but do in list case"
   ]
  },
  {
   "cell_type": "code",
   "execution_count": 5,
   "id": "44ad3da1-de78-439e-b6ee-5b637f444fe6",
   "metadata": {},
   "outputs": [
    {
     "data": {
      "text/plain": [
       "{'peas'}"
      ]
     },
     "execution_count": 5,
     "metadata": {},
     "output_type": "execute_result"
    }
   ],
   "source": [
    "#question5:Describe the key features of sets and provide examples of their use\u0014\n",
    "#solution:: in sets we can store the data which is not in any order \n",
    "#but it store the unique elements, dupliacte elements are replaced by once in the time of result \n",
    "#they donot have the order sysytem\n",
    "#they come in the {}\n",
    "# we can apply many operations to sets for modifying the sets\n",
    "# for an ex: add, discard,clear,remove,etc\n",
    "fruit_names={'grapes','manago','apple'}\n",
    "veg_names={'tomato','peas','ladyfinger'}\n",
    "list=fruit_names.union(veg_names)\n",
    "list\n",
    "fruit_names={'grapes','manago','apple','peas'}\n",
    "veg_names={'tomato','peas','ladyfinger'}\n",
    "list=fruit_names.intersection(veg_names)\n",
    "list"
   ]
  },
  {
   "cell_type": "code",
   "execution_count": 6,
   "id": "6957b758-33ee-4438-b552-10bc5c38fc4b",
   "metadata": {},
   "outputs": [
    {
     "data": {
      "text/plain": [
       "'dog'"
      ]
     },
     "execution_count": 6,
     "metadata": {},
     "output_type": "execute_result"
    }
   ],
   "source": [
    "#question6: Discuss the use cases of tuples and sets in Python programming\u0014\n",
    "#solution: it have a viatal role in programming \n",
    "#Sets are collections of unique and unordered elements\n",
    "#They don't allow duplicate elements and are represented by curly braces {} in Python\n",
    "#Sets don’t maintain order, so elements aren’t indexed\n",
    "#They ensure each element is unique within the set\n",
    "# for an example of sets:\n",
    "friends_name={'GRUMEET','SUMIT','RAHUL'}\n",
    "girl_friend={'MUSKAN','KHUSI','ASHU'}\n",
    "friends=friends_name|(girl_friend)\n",
    "friends\n",
    "#intersection:\n",
    "friends=friends_name&(girl_friend)\n",
    "friends\n",
    "#tuples:\n",
    "#Tuples are ordered collections of elements, often heterogeneous, enclosed within parentheses.\n",
    "#they are immutable, meaning once created, their elements cannot be changed\u001e",
    "\n",
    "#Tuples are created using parentheses ‘()’ and separating elements with commas ‘,’.\n",
    "#for examples:\n",
    "animal_list=[\"cat\",\"horse\",\"dog\"]\n",
    "animal_list[1]\n",
    "animal_tuple=('cat','horse','dog')\n",
    "animal_tuple[2]"
   ]
  },
  {
   "cell_type": "code",
   "execution_count": 7,
   "id": "0a3cfc05-4575-4e51-b863-4dc3b553000a",
   "metadata": {},
   "outputs": [
    {
     "data": {
      "text/plain": [
       "{'brand': 'Audi', 'color': 'royal black'}"
      ]
     },
     "execution_count": 7,
     "metadata": {},
     "output_type": "execute_result"
    }
   ],
   "source": [
    "#question7:»» Describe how to add, modify, and delete items in a dictionary with examples\n",
    "#solution:»»it is data type in python that store the data as key-value pairs\n",
    "#they are unordered collections and are defined using the {}.key are\n",
    "#unique and immutable, while values can be of any data type\n",
    "#elements are accessed by referencing their keys as using square brackets[]\n",
    "#adding the item to dictonary \n",
    "cars={\"brand\":\"Audi\",\"color\":\"black\"}\n",
    "cars[\"model\"]=\"Q3\"\n",
    "cars\n",
    "# modifying the value:\n",
    "cars[\"color\"]=\"royal black\"\n",
    "cars\n",
    "#delete the items\n",
    "del cars[\"model\"]\n",
    "cars"
   ]
  },
  {
   "cell_type": "code",
   "execution_count": 8,
   "id": "978005e7-61c0-4197-a7cc-df44880fd380",
   "metadata": {},
   "outputs": [
    {
     "data": {
      "text/plain": [
       "21"
      ]
     },
     "execution_count": 8,
     "metadata": {},
     "output_type": "execute_result"
    }
   ],
   "source": [
    "#question8: Discuss the importance of dictionary keys being immutable and provide examples.\n",
    "#solution:»»dict provide the dynamics , live views of a dict.'s contents.these views reflect\n",
    "#changes made in the associated dict.\n",
    "# They offer an interface to observe and interact with the keys, values, or key-value pairs within a dictionary without creating separate lists or sets.\n",
    "#One crucial aspect of dictionary views is their dynamic nature. They are live representations of the original dictionary, meaning they reflect any changes made to the underlying dictionary in real time.\n",
    "#If the dictionary changes (keys, values, or items are added, modified, or removed), these changes are immediately reflected in the view object.\n",
    " \n",
    "# for an example:\n",
    "heroes_names={\"Name\":\"Bhagat Singh \",\"Age\":21}\n",
    "\n",
    "heroes_names[\"Name\"]\n",
    "heroes_names[\"Age\"]"
   ]
  },
  {
   "cell_type": "code",
   "execution_count": null,
   "id": "37014b85-96d4-42bb-8dbf-25f20ce61e17",
   "metadata": {},
   "outputs": [],
   "source": []
  },
  {
   "cell_type": "code",
   "execution_count": null,
   "id": "4d581c13-e947-4dc2-8e23-0619c22788c3",
   "metadata": {},
   "outputs": [],
   "source": []
  },
  {
   "cell_type": "code",
   "execution_count": null,
   "id": "90b8149d-558b-40c3-befb-349aa002992e",
   "metadata": {},
   "outputs": [],
   "source": []
  },
  {
   "cell_type": "code",
   "execution_count": null,
   "id": "e047897a-0634-4192-84a2-5f43a3028095",
   "metadata": {},
   "outputs": [],
   "source": []
  },
  {
   "cell_type": "code",
   "execution_count": null,
   "id": "64c8502b-d8dc-4993-aaee-e2d35fcec2f0",
   "metadata": {},
   "outputs": [],
   "source": []
  },
  {
   "cell_type": "code",
   "execution_count": null,
   "id": "0973488a-c624-40ab-b3b2-fd1f87ef98d2",
   "metadata": {},
   "outputs": [],
   "source": []
  }
 ],
 "metadata": {
  "kernelspec": {
   "display_name": "Python 3 (ipykernel)",
   "language": "python",
   "name": "python3"
  },
  "language_info": {
   "codemirror_mode": {
    "name": "ipython",
    "version": 3
   },
   "file_extension": ".py",
   "mimetype": "text/x-python",
   "name": "python",
   "nbconvert_exporter": "python",
   "pygments_lexer": "ipython3",
   "version": "3.10.8"
  }
 },
 "nbformat": 4,
 "nbformat_minor": 5
}
